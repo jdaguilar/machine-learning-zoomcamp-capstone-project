{
 "cells": [
  {
   "cell_type": "markdown",
   "metadata": {},
   "source": [
    "# Import Required Libraries\n",
    "Import the necessary libraries, including pandas, matplotlib, seaborn, and scikit-learn."
   ]
  },
  {
   "cell_type": "code",
   "execution_count": 1,
   "metadata": {},
   "outputs": [],
   "source": [
    "import matplotlib.pyplot as plt\n",
    "import pandas as pd\n",
    "import seaborn as sns\n",
    "import sklearn\n",
    "from sklearn.model_selection import train_test_split\n",
    "from sklearn.preprocessing import StandardScaler\n",
    "from sklearn.linear_model import LogisticRegression\n",
    "from sklearn.tree import DecisionTreeClassifier\n",
    "from sklearn.ensemble import RandomForestClassifier\n",
    "from sklearn.metrics import accuracy_score, classification_report, confusion_matrix"
   ]
  },
  {
   "cell_type": "markdown",
   "metadata": {},
   "source": [
    "# Load and Explore Dataset\n",
    "Load the dataset and perform initial exploration, including checking for missing values and basic statistics."
   ]
  },
  {
   "cell_type": "code",
   "execution_count": null,
   "metadata": {},
   "outputs": [],
   "source": [
    "# Load the dataset\n",
    "df = pd.read_csv('credit_data.csv')\n",
    "\n",
    "# Display the first few rows of the dataset\n",
    "df.head()\n",
    "\n",
    "# Check for missing values\n",
    "missing_values = df.isnull().sum()\n",
    "print(\"Missing values in each column:\\n\", missing_values)\n",
    "\n",
    "# Display basic statistics of the dataset\n",
    "basic_stats = df.describe()\n",
    "print(\"Basic statistics of the dataset:\\n\", basic_stats)\n",
    "\n",
    "# Visualize the distribution of the target variable\n",
    "sns.countplot(x='creditability', data=df)\n",
    "plt.title('Distribution of Creditability')\n",
    "plt.show()"
   ]
  },
  {
   "cell_type": "markdown",
   "metadata": {},
   "source": [
    "# Preprocess Data\n",
    "Preprocess the data by handling missing values, encoding categorical variables, and scaling numerical features."
   ]
  },
  {
   "cell_type": "code",
   "execution_count": null,
   "metadata": {},
   "outputs": [],
   "source": [
    "# Handle missing values by filling them with the median of the column\n",
    "df.fillna(df.median(), inplace=True)\n",
    "\n",
    "# Encode categorical variables using one-hot encoding\n",
    "df = pd.get_dummies(df, drop_first=True)\n",
    "\n",
    "# Separate features and target variable\n",
    "X = df.drop('creditability', axis=1)\n",
    "y = df['creditability']\n",
    "\n",
    "# Split the data into training and testing sets\n",
    "X_train, X_test, y_train, y_test = train_test_split(X, y, test_size=0.2, random_state=42)\n",
    "\n",
    "# Scale numerical features\n",
    "scaler = StandardScaler()\n",
    "X_train = scaler.fit_transform(X_train)\n",
    "X_test = scaler.transform(X_test)"
   ]
  },
  {
   "cell_type": "markdown",
   "metadata": {},
   "source": [
    "# Split Data into Training and Testing Sets\n",
    "Split the dataset into training and testing sets using train_test_split from scikit-learn."
   ]
  },
  {
   "cell_type": "code",
   "execution_count": null,
   "metadata": {},
   "outputs": [],
   "source": [
    "# Split the data into training and testing sets\n",
    "X_train, X_test, y_train, y_test = train_test_split(X, y, test_size=0.2, random_state=42)\n",
    "\n",
    "# Scale numerical features\n",
    "scaler = StandardScaler()\n",
    "X_train = scaler.fit_transform(X_train)\n",
    "X_test = scaler.transform(X_test)"
   ]
  },
  {
   "cell_type": "markdown",
   "metadata": {},
   "source": [
    "# Train Multiple Classification Models\n",
    "Train multiple classification models such as Logistic Regression, Decision Tree, Random Forest, and Support Vector Machine."
   ]
  },
  {
   "cell_type": "code",
   "execution_count": null,
   "metadata": {},
   "outputs": [],
   "source": [
    "# Train Logistic Regression model\n",
    "log_reg = LogisticRegression()\n",
    "log_reg.fit(X_train, y_train)\n",
    "y_pred_log_reg = log_reg.predict(X_test)\n",
    "log_reg_accuracy = accuracy_score(y_test, y_pred_log_reg)\n",
    "print(f\"Logistic Regression Accuracy: {log_reg_accuracy}\")\n",
    "\n",
    "# Train Decision Tree model\n",
    "decision_tree = DecisionTreeClassifier()\n",
    "decision_tree.fit(X_train, y_train)\n",
    "y_pred_decision_tree = decision_tree.predict(X_test)\n",
    "decision_tree_accuracy = accuracy_score(y_test, y_pred_decision_tree)\n",
    "print(f\"Decision Tree Accuracy: {decision_tree_accuracy}\")\n",
    "\n",
    "# Train Random Forest model\n",
    "random_forest = RandomForestClassifier()\n",
    "random_forest.fit(X_train, y_train)\n",
    "y_pred_random_forest = random_forest.predict(X_test)\n",
    "random_forest_accuracy = accuracy_score(y_test, y_pred_random_forest)\n",
    "print(f\"Random Forest Accuracy: {random_forest_accuracy}\")\n",
    "\n",
    "# Train Support Vector Machine model\n",
    "from sklearn.svm import SVC\n",
    "svm = SVC()\n",
    "svm.fit(X_train, y_train)\n",
    "y_pred_svm = svm.predict(X_test)\n",
    "svm_accuracy = accuracy_score(y_test, y_pred_svm)\n",
    "print(f\"SVM Accuracy: {svm_accuracy}\")\n",
    "\n",
    "# Compare model accuracies\n",
    "model_accuracies = {\n",
    "    \"Logistic Regression\": log_reg_accuracy,\n",
    "    \"Decision Tree\": decision_tree_accuracy,\n",
    "    \"Random Forest\": random_forest_accuracy,\n",
    "    \"SVM\": svm_accuracy\n",
    "}\n",
    "\n",
    "best_model = max(model_accuracies, key=model_accuracies.get)\n",
    "print(f\"Best model: {best_model} with accuracy {model_accuracies[best_model]}\")"
   ]
  },
  {
   "cell_type": "markdown",
   "metadata": {},
   "source": [
    "# Evaluate Model Performance\n",
    "Evaluate the performance of each model using metrics such as accuracy, precision, recall, and F1-score."
   ]
  },
  {
   "cell_type": "code",
   "execution_count": null,
   "metadata": {},
   "outputs": [],
   "source": [
    "# Evaluate Model Performance\n",
    "\n",
    "# Evaluate Logistic Regression model\n",
    "log_reg_report = classification_report(y_test, y_pred_log_reg)\n",
    "log_reg_conf_matrix = confusion_matrix(y_test, y_pred_log_reg)\n",
    "print(\"Logistic Regression Classification Report:\\n\", log_reg_report)\n",
    "print(\"Logistic Regression Confusion Matrix:\\n\", log_reg_conf_matrix)\n",
    "\n",
    "# Evaluate Decision Tree model\n",
    "decision_tree_report = classification_report(y_test, y_pred_decision_tree)\n",
    "decision_tree_conf_matrix = confusion_matrix(y_test, y_pred_decision_tree)\n",
    "print(\"Decision Tree Classification Report:\\n\", decision_tree_report)\n",
    "print(\"Decision Tree Confusion Matrix:\\n\", decision_tree_conf_matrix)\n",
    "\n",
    "# Evaluate Random Forest model\n",
    "random_forest_report = classification_report(y_test, y_pred_random_forest)\n",
    "random_forest_conf_matrix = confusion_matrix(y_test, y_pred_random_forest)\n",
    "print(\"Random Forest Classification Report:\\n\", random_forest_report)\n",
    "print(\"Random Forest Confusion Matrix:\\n\", random_forest_conf_matrix)\n",
    "\n",
    "# Evaluate Support Vector Machine model\n",
    "svm_report = classification_report(y_test, y_pred_svm)\n",
    "svm_conf_matrix = confusion_matrix(y_test, y_pred_svm)\n",
    "print(\"SVM Classification Report:\\n\", svm_report)\n",
    "print(\"SVM Confusion Matrix:\\n\", svm_conf_matrix)"
   ]
  },
  {
   "cell_type": "markdown",
   "metadata": {},
   "source": [
    "# Select the Best Model\n",
    "Compare the performance metrics of the models and select the best one based on the evaluation."
   ]
  },
  {
   "cell_type": "code",
   "execution_count": null,
   "metadata": {},
   "outputs": [],
   "source": [
    "# Select the Best Model\n",
    "\n",
    "# Compare the performance metrics of the models and select the best one based on the evaluation\n",
    "\n",
    "# Create a DataFrame to store the evaluation metrics\n",
    "evaluation_metrics = pd.DataFrame({\n",
    "    \"Model\": [\"Logistic Regression\", \"Decision Tree\", \"Random Forest\", \"SVM\"],\n",
    "    \"Accuracy\": [log_reg_accuracy, decision_tree_accuracy, random_forest_accuracy, svm_accuracy],\n",
    "    \"Precision\": [classification_report(y_test, y_pred_log_reg, output_dict=True)['weighted avg']['precision'],\n",
    "                  classification_report(y_test, y_pred_decision_tree, output_dict=True)['weighted avg']['precision'],\n",
    "                  classification_report(y_test, y_pred_random_forest, output_dict=True)['weighted avg']['precision'],\n",
    "                  classification_report(y_test, y_pred_svm, output_dict=True)['weighted avg']['precision']],\n",
    "    \"Recall\": [classification_report(y_test, y_pred_log_reg, output_dict=True)['weighted avg']['recall'],\n",
    "               classification_report(y_test, y_pred_decision_tree, output_dict=True)['weighted avg']['recall'],\n",
    "               classification_report(y_test, y_pred_random_forest, output_dict=True)['weighted avg']['recall'],\n",
    "               classification_report(y_test, y_pred_svm, output_dict=True)['weighted avg']['recall']],\n",
    "    \"F1-Score\": [classification_report(y_test, y_pred_log_reg, output_dict=True)['weighted avg']['f1-score'],\n",
    "                 classification_report(y_test, y_pred_decision_tree, output_dict=True)['weighted avg']['f1-score'],\n",
    "                 classification_report(y_test, y_pred_random_forest, output_dict=True)['weighted avg']['f1-score'],\n",
    "                 classification_report(y_test, y_pred_svm, output_dict=True)['weighted avg']['f1-score']]\n",
    "})\n",
    "\n",
    "# Display the evaluation metrics\n",
    "print(\"Evaluation Metrics for Different Models:\\n\", evaluation_metrics)\n",
    "\n",
    "# Select the best model based on F1-Score\n",
    "best_model = evaluation_metrics.loc[evaluation_metrics['F1-Score'].idxmax()]\n",
    "print(f\"Best Model: {best_model['Model']} with F1-Score: {best_model['F1-Score']}\")\n",
    "\n",
    "# Plot the evaluation metrics for comparison\n",
    "evaluation_metrics.set_index('Model', inplace=True)\n",
    "evaluation_metrics.plot(kind='bar', figsize=(10, 6))\n",
    "plt.title('Comparison of Model Performance Metrics')\n",
    "plt.ylabel('Score')\n",
    "plt.xlabel('Model')\n",
    "plt.xticks(rotation=45)\n",
    "plt.legend(loc='lower right')\n",
    "plt.show()"
   ]
  }
 ],
 "metadata": {
  "kernelspec": {
   "display_name": "Python 3",
   "language": "python",
   "name": "python3"
  },
  "language_info": {
   "codemirror_mode": {
    "name": "ipython",
    "version": 3
   },
   "file_extension": ".py",
   "mimetype": "text/x-python",
   "name": "python",
   "nbconvert_exporter": "python",
   "pygments_lexer": "ipython3",
   "version": "3.12.1"
  }
 },
 "nbformat": 4,
 "nbformat_minor": 2
}
